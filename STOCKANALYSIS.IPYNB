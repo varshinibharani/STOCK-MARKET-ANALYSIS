import pandas as pd
from pathlib import Path
import yaml
import matplotlib.pyplot as plt
import seaborn as sns
import streamlit as st
from datetime import timedelta

def yaml_to_csv(input_folder, output_file):
    
    Path(output_file).parent.mkdir(parents=True, exist_ok=True)
    combined_data = []

    for month_path in Path(input_folder).iterdir():
        if not month_path.is_dir():
            continue

        for file_path in month_path.glob('*.yaml'):
            with open(file_path, 'r') as file:
                data = yaml.safe_load(file)
                combined_data.append(pd.DataFrame(data))

    if combined_data:
        combined_df = pd.concat(combined_data, ignore_index=True)
        combined_df.to_csv(output_file, index=False)
        print(f"Data saved to {output_file}")
    else:
        print("No data found.")

if __name__ == "__main__":
    input_folder ="C:\\Users\\jayav\\OneDrive\\Desktop\\STOCK DATA"
    output_file ="C:\\Users\\jayav\\OneDrive\\Desktop\\COMBINED DATA\\New Microsoft Excel Worksheet.csv"

    yaml_to_csv(input_folder, output_file)


